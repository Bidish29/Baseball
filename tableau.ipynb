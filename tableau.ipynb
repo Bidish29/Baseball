{
 "cells": [
  {
   "cell_type": "markdown",
   "metadata": {},
   "source": [
    "## Data Visualization in Tableau\n",
    "\n",
    "by Bidish Basu"
   ]
  },
  {
   "cell_type": "markdown",
   "metadata": {},
   "source": [
    "### Introduction\n",
    "\n",
    "In this project I will be exploring and tabulating my findings of the baseball players dataset. I will be using Tableau to communicate my findings and relationsips that I have observed in the data.\n",
    "\n",
    "#### First Visualization\n",
    "\n",
    "https://public.tableau.com/profile/bidish.basu#!/vizhome/First_Visualization/Story1\n",
    "\n",
    "#### Final Visualization\n",
    "\n",
    "https://public.tableau.com/profile/bidish.basu#!/vizhome/Final_Visualisation_0/Story1\n"
   ]
  },
  {
   "cell_type": "markdown",
   "metadata": {},
   "source": [
    "### Summary\n",
    "I have used many different techniques to represent the Baseball data. I have explored the average, Height and Weight variables for tabulating my findings. I have also created a new variable(Height/Weight) to help me with my findings. In my initial visualization, I find out some stats based on the original variables but in my final visualization, I record my findings on the basis of the variable that I derived(Height/Weight)\n",
    "\n",
    "From my exploation, I have concluded that  the players with a height and weight ratio of 0.4929 have the highest Batting Average. Also, most of the players have a batting average between 0.21 and 0.30. Handedness was not conclusive as there were not equal number of players who were left, right and played with both hands."
   ]
  },
  {
   "cell_type": "markdown",
   "metadata": {},
   "source": [
    "### Design\n",
    "\n",
    "#### Initial Design\n",
    "\n",
    "Initially the chart type and format settings for all the axis and plots were set to default.\n",
    "\n",
    "Each plot contained gridlines and labels.\n",
    "\n",
    "X and Y axis of all plots were shown with no color encoding being done as it wasn't felt needed.\n",
    "\n",
    "\n",
    "I have also used a scatterplot as that helps us to see the scattering of the Batting Averages of the players.\n",
    "\n",
    "#### Final Design\n",
    "\n",
    "I have now removed the grid lines execpt for the scatterplot as they were needed for asthetic purposes.\n",
    "\n",
    "There is a  \"Calculated Field\" introduced i.e the \"Height/Weight\"  as they allowed me to analyze the data indepth.\n",
    "\n",
    "I added a filter so as to remove most of the empty data i.e., some records had 0 Homeruns so I removed those rows as it was not helpful for my analysis.\n",
    "\n",
    "I have used colours for enhancing my analysis.\n",
    "\n",
    "In my inital design, the sheet titles were not seen in the final visualization. I have made sure to include them.\n",
    "\n",
    "I have also added a few actions in some of the dashboards.\n",
    "\n",
    "I chose to use bar charts and scatterplots as my tools to visualise as they provide a great overview of the distribution between the different types of variables I have used.\n"
   ]
  },
  {
   "cell_type": "markdown",
   "metadata": {},
   "source": [
    "#### Feedback\n",
    "\n",
    "Following are some of the feedbacks which I received based on which I made my final visualizations.\n",
    "\n",
    "1. The stories should have a title so as to make it clear what the visualization is for.\n",
    "2. The labelling of the X and the Y axes should be clearer(Avg and HR for example were not clear).\n",
    "3. Description of the visualization are not clear.\n",
    "4. A ratio of Height and Weight will be easier for analysis.\n",
    "5. Include titles for all the pages.\n",
    "\n"
   ]
  },
  {
   "cell_type": "markdown",
   "metadata": {},
   "source": [
    "#### Resources\n",
    "\n",
    "1. https://onlinehelp.tableau.com\n",
    "2. https://www.tableau.com/learn/training\n",
    "3. https://community.tableau.com\n",
    "4. https://www.youtube.com"
   ]
  }
 ],
 "metadata": {
  "kernelspec": {
   "display_name": "Python 3",
   "language": "python",
   "name": "python3"
  },
  "language_info": {
   "codemirror_mode": {
    "name": "ipython",
    "version": 3
   },
   "file_extension": ".py",
   "mimetype": "text/x-python",
   "name": "python",
   "nbconvert_exporter": "python",
   "pygments_lexer": "ipython3",
   "version": "3.7.3"
  }
 },
 "nbformat": 4,
 "nbformat_minor": 2
}
